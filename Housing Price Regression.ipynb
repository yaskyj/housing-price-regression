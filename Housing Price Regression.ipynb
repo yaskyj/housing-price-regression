{
 "cells": [
  {
   "cell_type": "code",
   "execution_count": 47,
   "metadata": {
    "collapsed": true
   },
   "outputs": [],
   "source": [
    "import pandas as pd\n",
    "import numpy as np\n",
    "import matplotlib.pyplot as plt\n",
    "%matplotlib inline\n",
    "from sklearn.ensemble import RandomForestRegressor\n",
    "from sklearn import metrics"
   ]
  },
  {
   "cell_type": "code",
   "execution_count": 2,
   "metadata": {
    "collapsed": true
   },
   "outputs": [],
   "source": [
    "train = pd.read_csv('train.csv')\n",
    "test = pd.read_csv('test.csv')"
   ]
  },
  {
   "cell_type": "code",
   "execution_count": 3,
   "metadata": {
    "collapsed": true
   },
   "outputs": [],
   "source": [
    "train = train.fillna(-1)"
   ]
  },
  {
   "cell_type": "code",
   "execution_count": 4,
   "metadata": {
    "collapsed": false
   },
   "outputs": [
    {
     "data": {
      "text/html": [
       "<div>\n",
       "<style>\n",
       "    .dataframe thead tr:only-child th {\n",
       "        text-align: right;\n",
       "    }\n",
       "\n",
       "    .dataframe thead th {\n",
       "        text-align: left;\n",
       "    }\n",
       "\n",
       "    .dataframe tbody tr th {\n",
       "        vertical-align: top;\n",
       "    }\n",
       "</style>\n",
       "<table border=\"1\" class=\"dataframe\">\n",
       "  <thead>\n",
       "    <tr style=\"text-align: right;\">\n",
       "      <th></th>\n",
       "      <th>Id</th>\n",
       "      <th>MSSubClass</th>\n",
       "      <th>LotFrontage</th>\n",
       "      <th>LotArea</th>\n",
       "      <th>OverallQual</th>\n",
       "      <th>OverallCond</th>\n",
       "      <th>YearBuilt</th>\n",
       "      <th>YearRemodAdd</th>\n",
       "      <th>MasVnrArea</th>\n",
       "      <th>BsmtFinSF1</th>\n",
       "      <th>...</th>\n",
       "      <th>WoodDeckSF</th>\n",
       "      <th>OpenPorchSF</th>\n",
       "      <th>EnclosedPorch</th>\n",
       "      <th>3SsnPorch</th>\n",
       "      <th>ScreenPorch</th>\n",
       "      <th>PoolArea</th>\n",
       "      <th>MiscVal</th>\n",
       "      <th>MoSold</th>\n",
       "      <th>YrSold</th>\n",
       "      <th>SalePrice</th>\n",
       "    </tr>\n",
       "  </thead>\n",
       "  <tbody>\n",
       "    <tr>\n",
       "      <th>count</th>\n",
       "      <td>1460.000000</td>\n",
       "      <td>1460.000000</td>\n",
       "      <td>1460.000000</td>\n",
       "      <td>1460.000000</td>\n",
       "      <td>1460.000000</td>\n",
       "      <td>1460.000000</td>\n",
       "      <td>1460.000000</td>\n",
       "      <td>1460.000000</td>\n",
       "      <td>1460.000000</td>\n",
       "      <td>1460.000000</td>\n",
       "      <td>...</td>\n",
       "      <td>1460.000000</td>\n",
       "      <td>1460.000000</td>\n",
       "      <td>1460.000000</td>\n",
       "      <td>1460.000000</td>\n",
       "      <td>1460.000000</td>\n",
       "      <td>1460.000000</td>\n",
       "      <td>1460.000000</td>\n",
       "      <td>1460.000000</td>\n",
       "      <td>1460.000000</td>\n",
       "      <td>1460.000000</td>\n",
       "    </tr>\n",
       "    <tr>\n",
       "      <th>mean</th>\n",
       "      <td>730.500000</td>\n",
       "      <td>56.897260</td>\n",
       "      <td>57.445890</td>\n",
       "      <td>10516.828082</td>\n",
       "      <td>6.099315</td>\n",
       "      <td>5.575342</td>\n",
       "      <td>1971.267808</td>\n",
       "      <td>1984.865753</td>\n",
       "      <td>103.111644</td>\n",
       "      <td>443.639726</td>\n",
       "      <td>...</td>\n",
       "      <td>94.244521</td>\n",
       "      <td>46.660274</td>\n",
       "      <td>21.954110</td>\n",
       "      <td>3.409589</td>\n",
       "      <td>15.060959</td>\n",
       "      <td>2.758904</td>\n",
       "      <td>43.489041</td>\n",
       "      <td>6.321918</td>\n",
       "      <td>2007.815753</td>\n",
       "      <td>180921.195890</td>\n",
       "    </tr>\n",
       "    <tr>\n",
       "      <th>std</th>\n",
       "      <td>421.610009</td>\n",
       "      <td>42.300571</td>\n",
       "      <td>34.960241</td>\n",
       "      <td>9981.264932</td>\n",
       "      <td>1.382997</td>\n",
       "      <td>1.112799</td>\n",
       "      <td>30.202904</td>\n",
       "      <td>20.645407</td>\n",
       "      <td>180.734517</td>\n",
       "      <td>456.098091</td>\n",
       "      <td>...</td>\n",
       "      <td>125.338794</td>\n",
       "      <td>66.256028</td>\n",
       "      <td>61.119149</td>\n",
       "      <td>29.317331</td>\n",
       "      <td>55.757415</td>\n",
       "      <td>40.177307</td>\n",
       "      <td>496.123024</td>\n",
       "      <td>2.703626</td>\n",
       "      <td>1.328095</td>\n",
       "      <td>79442.502883</td>\n",
       "    </tr>\n",
       "    <tr>\n",
       "      <th>min</th>\n",
       "      <td>1.000000</td>\n",
       "      <td>20.000000</td>\n",
       "      <td>-1.000000</td>\n",
       "      <td>1300.000000</td>\n",
       "      <td>1.000000</td>\n",
       "      <td>1.000000</td>\n",
       "      <td>1872.000000</td>\n",
       "      <td>1950.000000</td>\n",
       "      <td>-1.000000</td>\n",
       "      <td>0.000000</td>\n",
       "      <td>...</td>\n",
       "      <td>0.000000</td>\n",
       "      <td>0.000000</td>\n",
       "      <td>0.000000</td>\n",
       "      <td>0.000000</td>\n",
       "      <td>0.000000</td>\n",
       "      <td>0.000000</td>\n",
       "      <td>0.000000</td>\n",
       "      <td>1.000000</td>\n",
       "      <td>2006.000000</td>\n",
       "      <td>34900.000000</td>\n",
       "    </tr>\n",
       "    <tr>\n",
       "      <th>25%</th>\n",
       "      <td>365.750000</td>\n",
       "      <td>20.000000</td>\n",
       "      <td>42.000000</td>\n",
       "      <td>7553.500000</td>\n",
       "      <td>5.000000</td>\n",
       "      <td>5.000000</td>\n",
       "      <td>1954.000000</td>\n",
       "      <td>1967.000000</td>\n",
       "      <td>0.000000</td>\n",
       "      <td>0.000000</td>\n",
       "      <td>...</td>\n",
       "      <td>0.000000</td>\n",
       "      <td>0.000000</td>\n",
       "      <td>0.000000</td>\n",
       "      <td>0.000000</td>\n",
       "      <td>0.000000</td>\n",
       "      <td>0.000000</td>\n",
       "      <td>0.000000</td>\n",
       "      <td>5.000000</td>\n",
       "      <td>2007.000000</td>\n",
       "      <td>129975.000000</td>\n",
       "    </tr>\n",
       "    <tr>\n",
       "      <th>50%</th>\n",
       "      <td>730.500000</td>\n",
       "      <td>50.000000</td>\n",
       "      <td>63.000000</td>\n",
       "      <td>9478.500000</td>\n",
       "      <td>6.000000</td>\n",
       "      <td>5.000000</td>\n",
       "      <td>1973.000000</td>\n",
       "      <td>1994.000000</td>\n",
       "      <td>0.000000</td>\n",
       "      <td>383.500000</td>\n",
       "      <td>...</td>\n",
       "      <td>0.000000</td>\n",
       "      <td>25.000000</td>\n",
       "      <td>0.000000</td>\n",
       "      <td>0.000000</td>\n",
       "      <td>0.000000</td>\n",
       "      <td>0.000000</td>\n",
       "      <td>0.000000</td>\n",
       "      <td>6.000000</td>\n",
       "      <td>2008.000000</td>\n",
       "      <td>163000.000000</td>\n",
       "    </tr>\n",
       "    <tr>\n",
       "      <th>75%</th>\n",
       "      <td>1095.250000</td>\n",
       "      <td>70.000000</td>\n",
       "      <td>79.000000</td>\n",
       "      <td>11601.500000</td>\n",
       "      <td>7.000000</td>\n",
       "      <td>6.000000</td>\n",
       "      <td>2000.000000</td>\n",
       "      <td>2004.000000</td>\n",
       "      <td>164.250000</td>\n",
       "      <td>712.250000</td>\n",
       "      <td>...</td>\n",
       "      <td>168.000000</td>\n",
       "      <td>68.000000</td>\n",
       "      <td>0.000000</td>\n",
       "      <td>0.000000</td>\n",
       "      <td>0.000000</td>\n",
       "      <td>0.000000</td>\n",
       "      <td>0.000000</td>\n",
       "      <td>8.000000</td>\n",
       "      <td>2009.000000</td>\n",
       "      <td>214000.000000</td>\n",
       "    </tr>\n",
       "    <tr>\n",
       "      <th>max</th>\n",
       "      <td>1460.000000</td>\n",
       "      <td>190.000000</td>\n",
       "      <td>313.000000</td>\n",
       "      <td>215245.000000</td>\n",
       "      <td>10.000000</td>\n",
       "      <td>9.000000</td>\n",
       "      <td>2010.000000</td>\n",
       "      <td>2010.000000</td>\n",
       "      <td>1600.000000</td>\n",
       "      <td>5644.000000</td>\n",
       "      <td>...</td>\n",
       "      <td>857.000000</td>\n",
       "      <td>547.000000</td>\n",
       "      <td>552.000000</td>\n",
       "      <td>508.000000</td>\n",
       "      <td>480.000000</td>\n",
       "      <td>738.000000</td>\n",
       "      <td>15500.000000</td>\n",
       "      <td>12.000000</td>\n",
       "      <td>2010.000000</td>\n",
       "      <td>755000.000000</td>\n",
       "    </tr>\n",
       "  </tbody>\n",
       "</table>\n",
       "<p>8 rows × 38 columns</p>\n",
       "</div>"
      ],
      "text/plain": [
       "                Id   MSSubClass  LotFrontage        LotArea  OverallQual  \\\n",
       "count  1460.000000  1460.000000  1460.000000    1460.000000  1460.000000   \n",
       "mean    730.500000    56.897260    57.445890   10516.828082     6.099315   \n",
       "std     421.610009    42.300571    34.960241    9981.264932     1.382997   \n",
       "min       1.000000    20.000000    -1.000000    1300.000000     1.000000   \n",
       "25%     365.750000    20.000000    42.000000    7553.500000     5.000000   \n",
       "50%     730.500000    50.000000    63.000000    9478.500000     6.000000   \n",
       "75%    1095.250000    70.000000    79.000000   11601.500000     7.000000   \n",
       "max    1460.000000   190.000000   313.000000  215245.000000    10.000000   \n",
       "\n",
       "       OverallCond    YearBuilt  YearRemodAdd   MasVnrArea   BsmtFinSF1  \\\n",
       "count  1460.000000  1460.000000   1460.000000  1460.000000  1460.000000   \n",
       "mean      5.575342  1971.267808   1984.865753   103.111644   443.639726   \n",
       "std       1.112799    30.202904     20.645407   180.734517   456.098091   \n",
       "min       1.000000  1872.000000   1950.000000    -1.000000     0.000000   \n",
       "25%       5.000000  1954.000000   1967.000000     0.000000     0.000000   \n",
       "50%       5.000000  1973.000000   1994.000000     0.000000   383.500000   \n",
       "75%       6.000000  2000.000000   2004.000000   164.250000   712.250000   \n",
       "max       9.000000  2010.000000   2010.000000  1600.000000  5644.000000   \n",
       "\n",
       "           ...         WoodDeckSF  OpenPorchSF  EnclosedPorch    3SsnPorch  \\\n",
       "count      ...        1460.000000  1460.000000    1460.000000  1460.000000   \n",
       "mean       ...          94.244521    46.660274      21.954110     3.409589   \n",
       "std        ...         125.338794    66.256028      61.119149    29.317331   \n",
       "min        ...           0.000000     0.000000       0.000000     0.000000   \n",
       "25%        ...           0.000000     0.000000       0.000000     0.000000   \n",
       "50%        ...           0.000000    25.000000       0.000000     0.000000   \n",
       "75%        ...         168.000000    68.000000       0.000000     0.000000   \n",
       "max        ...         857.000000   547.000000     552.000000   508.000000   \n",
       "\n",
       "       ScreenPorch     PoolArea       MiscVal       MoSold       YrSold  \\\n",
       "count  1460.000000  1460.000000   1460.000000  1460.000000  1460.000000   \n",
       "mean     15.060959     2.758904     43.489041     6.321918  2007.815753   \n",
       "std      55.757415    40.177307    496.123024     2.703626     1.328095   \n",
       "min       0.000000     0.000000      0.000000     1.000000  2006.000000   \n",
       "25%       0.000000     0.000000      0.000000     5.000000  2007.000000   \n",
       "50%       0.000000     0.000000      0.000000     6.000000  2008.000000   \n",
       "75%       0.000000     0.000000      0.000000     8.000000  2009.000000   \n",
       "max     480.000000   738.000000  15500.000000    12.000000  2010.000000   \n",
       "\n",
       "           SalePrice  \n",
       "count    1460.000000  \n",
       "mean   180921.195890  \n",
       "std     79442.502883  \n",
       "min     34900.000000  \n",
       "25%    129975.000000  \n",
       "50%    163000.000000  \n",
       "75%    214000.000000  \n",
       "max    755000.000000  \n",
       "\n",
       "[8 rows x 38 columns]"
      ]
     },
     "execution_count": 4,
     "metadata": {},
     "output_type": "execute_result"
    }
   ],
   "source": [
    "train.describe()"
   ]
  },
  {
   "cell_type": "code",
   "execution_count": 5,
   "metadata": {
    "collapsed": true
   },
   "outputs": [],
   "source": [
    "cats = ['Alley', 'BldgType', 'BsmtCond', 'BsmtExposure', \n",
    "        'BsmtFinType1', 'BsmtFinType2', 'BsmtQual', 'CentralAir',\n",
    "        'Condition1', 'Condition2', 'Electrical', 'ExterCond', \n",
    "        'Exterior1st', 'Exterior2nd', 'ExterQual', 'Fence', \n",
    "        'FireplaceQu', 'Foundation', 'Functional', 'GarageCond', \n",
    "        'GarageFinish', 'GarageQual', 'GarageType', 'Heating', \n",
    "        'HeatingQC', 'HouseStyle', 'KitchenQual', 'LandContour', \n",
    "        'LandSlope', 'LotConfig', 'LotShape', 'MasVnrType', \n",
    "        'MiscFeature', 'MoSold', 'MSSubClass', 'MSZoning', \n",
    "        'Neighborhood', 'PavedDrive', 'PoolQC', 'RoofMatl', 'RoofStyle', \n",
    "        'SaleCondition', 'SaleType', 'Street', 'Utilities']\n",
    "nums = ['GarageYrBlt', 'LotFrontage', 'MasVnrArea', '1stFlrSF', \n",
    "        '2ndFlrSF', '3SsnPorch', 'BedroomAbvGr', 'BsmtFinSF1', \n",
    "        'BsmtFinSF2', 'BsmtFullBath', 'BsmtHalfBath', \n",
    "        'BsmtUnfSF', 'EnclosedPorch', 'Fireplaces', 'FullBath', \n",
    "        'GarageArea', 'GarageCars', 'GrLivArea', 'HalfBath', \n",
    "        'KitchenAbvGr', 'LotArea', 'LowQualFinSF', 'MiscVal', \n",
    "        'OpenPorchSF', 'OverallCond', 'OverallQual', 'PoolArea', \n",
    "        'ScreenPorch', 'TotalBsmtSF', 'TotRmsAbvGrd', \n",
    "        'WoodDeckSF', 'YearBuilt', 'YearRemodAdd', 'YrSold']"
   ]
  },
  {
   "cell_type": "code",
   "execution_count": 6,
   "metadata": {
    "collapsed": true
   },
   "outputs": [],
   "source": [
    "from sklearn.feature_extraction import DictVectorizer\n",
    "dv = DictVectorizer().fit(train[cats].T.to_dict().values())\n",
    "cat_matrix = dv.transform(train[cats].T.to_dict().values())"
   ]
  },
  {
   "cell_type": "code",
   "execution_count": 7,
   "metadata": {
    "collapsed": true
   },
   "outputs": [],
   "source": [
    "from scipy.sparse import hstack\n",
    "data_matrix = hstack([cat_matrix, train[nums]])"
   ]
  },
  {
   "cell_type": "code",
   "execution_count": 19,
   "metadata": {
    "collapsed": true
   },
   "outputs": [],
   "source": [
    "test = test.fillna(-1)\n",
    "test_cat_matrix = dv.transform(test[cats].T.to_dict().values())\n",
    "test_data_matrix = hstack([test_cat_matrix, test[nums]])"
   ]
  },
  {
   "cell_type": "code",
   "execution_count": 32,
   "metadata": {
    "collapsed": false
   },
   "outputs": [
    {
     "name": "stderr",
     "output_type": "stream",
     "text": [
      "//anaconda/lib/python2.7/site-packages/sklearn/cross_validation.py:41: DeprecationWarning: This module was deprecated in version 0.18 in favor of the model_selection module into which all the refactored classes and functions are moved. Also note that the interface of the new CV iterators are different from that of this module. This module will be removed in 0.20.\n",
      "  \"This module will be removed in 0.20.\", DeprecationWarning)\n"
     ]
    }
   ],
   "source": [
    "import xgboost. as xgb"
   ]
  },
  {
   "cell_type": "code",
   "execution_count": 69,
   "metadata": {
    "collapsed": false,
    "scrolled": true
   },
   "outputs": [
    {
     "name": "stdout",
     "output_type": "stream",
     "text": [
      "Fitting 5 folds for each of 7 candidates, totalling 35 fits\n",
      "[CV] n_estimators=50 .................................................\n",
      "[CV] n_estimators=50 .................................................\n",
      "[CV] n_estimators=50 .................................................\n",
      "[CV] n_estimators=50 .................................................\n",
      "[CV] .................................. n_estimators=50, total=   0.3s\n",
      "[CV] n_estimators=50 .................................................\n",
      "[CV] .................................. n_estimators=50, total=   0.3s\n",
      "[CV] n_estimators=100 ................................................\n",
      "[CV] .................................. n_estimators=50, total=   0.3s\n",
      "[CV] n_estimators=100 ................................................\n",
      "[CV] .................................. n_estimators=50, total=   0.4s\n",
      "[CV] n_estimators=100 ................................................\n",
      "[CV] .................................. n_estimators=50, total=   0.4s\n",
      "[CV] n_estimators=100 ................................................\n",
      "[CV] ................................. n_estimators=100, total=   0.6s\n",
      "[CV] n_estimators=100 ................................................\n",
      "[CV] ................................. n_estimators=100, total=   0.6s\n",
      "[CV] n_estimators=150 ................................................\n",
      "[CV] ................................. n_estimators=100, total=   0.6s\n",
      "[CV] n_estimators=150 ................................................\n",
      "[CV] ................................. n_estimators=100, total=   0.6s\n",
      "[CV] n_estimators=150 ................................................\n",
      "[CV] ................................. n_estimators=100, total=   0.6s\n",
      "[CV] n_estimators=150 ................................................\n",
      "[CV] ................................. n_estimators=150, total=   0.7s\n",
      "[CV] ................................. n_estimators=150, total=   0.8s\n",
      "[CV] n_estimators=150 ................................................\n",
      "[CV] n_estimators=200 ................................................\n",
      "[CV] ................................. n_estimators=150, total=   0.8s\n",
      "[CV] n_estimators=200 ................................................\n",
      "[CV] ................................. n_estimators=150, total=   0.7s\n",
      "[CV] n_estimators=200 ................................................\n",
      "[CV] ................................. n_estimators=150, total=   0.8s\n",
      "[CV] n_estimators=200 ................................................\n",
      "[CV] ................................. n_estimators=200, total=   1.0s\n",
      "[CV] n_estimators=200 ................................................\n",
      "[CV] ................................. n_estimators=200, total=   1.0s\n",
      "[CV] n_estimators=250 ................................................\n",
      "[CV] ................................. n_estimators=200, total=   0.9s\n",
      "[CV] n_estimators=250 ................................................\n",
      "[CV] ................................. n_estimators=200, total=   0.9s\n",
      "[CV] n_estimators=250 ................................................\n",
      "[CV] ................................. n_estimators=200, total=   1.0s\n",
      "[CV] n_estimators=250 ................................................\n",
      "[CV] ................................. n_estimators=250, total=   1.2s\n",
      "[CV] n_estimators=250 ................................................\n",
      "[CV] ................................. n_estimators=250, total=   1.3s\n",
      "[CV] n_estimators=300 ................................................\n",
      "[CV] ................................. n_estimators=250, total=   1.4s\n",
      "[CV] n_estimators=300 ................................................\n",
      "[CV] ................................. n_estimators=250, total=   1.4s\n",
      "[CV] n_estimators=300 ................................................\n",
      "[CV] ................................. n_estimators=250, total=   1.4s\n",
      "[CV] n_estimators=300 ................................................\n",
      "[CV] ................................. n_estimators=300, total=   1.6s\n",
      "[CV] n_estimators=300 ................................................\n",
      "[CV] ................................. n_estimators=300, total=   1.7s\n",
      "[CV] n_estimators=350 ................................................\n",
      "[CV] ................................. n_estimators=300, total=   1.5s\n",
      "[CV] n_estimators=350 ................................................\n",
      "[CV] ................................. n_estimators=300, total=   1.5s\n",
      "[CV] n_estimators=350 ................................................\n",
      "[CV] ................................. n_estimators=300, total=   1.5s\n",
      "[CV] n_estimators=350 ................................................\n",
      "[CV] ................................. n_estimators=350, total=   1.6s\n",
      "[CV] n_estimators=350 ................................................\n",
      "[CV] ................................. n_estimators=350, total=   1.6s\n",
      "[CV] ................................. n_estimators=350, total=   1.6s\n",
      "[CV] ................................. n_estimators=350, total=   1.4s\n",
      "[CV] ................................. n_estimators=350, total=   1.2s\n"
     ]
    },
    {
     "name": "stderr",
     "output_type": "stream",
     "text": [
      "[Parallel(n_jobs=-1)]: Done  35 out of  35 | elapsed:   10.7s finished\n"
     ]
    },
    {
     "name": "stdout",
     "output_type": "stream",
     "text": [
      "Best: -672923339.713921 using {'n_estimators': 350}\n",
      "-797570526.934801 (189575716.296216) with: {'n_estimators': 50}\n",
      "-705930113.553256 (189378930.933201) with: {'n_estimators': 100}\n",
      "-689555644.210138 (192262910.911084) with: {'n_estimators': 150}\n",
      "-682832988.596768 (193485497.107621) with: {'n_estimators': 200}\n",
      "-676550055.332540 (191835184.248101) with: {'n_estimators': 250}\n",
      "-674370870.390834 (190402451.989070) with: {'n_estimators': 300}\n",
      "-672923339.713921 (192954200.729594) with: {'n_estimators': 350}\n"
     ]
    },
    {
     "data": {
      "text/plain": [
       "<matplotlib.text.Text at 0x118448090>"
      ]
     },
     "execution_count": 69,
     "metadata": {},
     "output_type": "execute_result"
    },
    {
     "data": {
      "image/png": "[encoded data removed]",
      "text/plain": [
       "<matplotlib.figure.Figure at 0x1188a9c50>"
      ]
     },
     "metadata": {},
     "output_type": "display_data"
    }
   ],
   "source": [
    "from sklearn.model_selection import GridSearchCV\n",
    "boost = xgb.XGBRegressor()\n",
    "\n",
    "n_estimators = range(50, 400, 50)\n",
    "tuned_parameters = dict(n_estimators=n_estimators)\n",
    "grid = GridSearchCV(boost, tuned_parameters, cv=5, scoring='neg_mean_squared_error', n_jobs=-1, verbose=2)\n",
    "grid.fit(data_matrix, train['SalePrice'])\n",
    "\n",
    "# summarize results\n",
    "print(\"Best: %f using %s\" % (grid.best_score_, grid.best_params_))\n",
    "means = grid.cv_results_['mean_test_score']\n",
    "stds = grid.cv_results_['std_test_score']\n",
    "params = grid.cv_results_['params']\n",
    "for mean, stdev, param in zip(means, stds, params):\n",
    "  print(\"%f (%f) with: %r\" % (mean, stdev, param))\n",
    "# plot\n",
    "plt.errorbar(n_estimators, means, yerr=stds) \n",
    "plt.title(\"XGBoost n_estimators vs Log Loss\") \n",
    "plt.xlabel('n_estimators')\n",
    "plt.ylabel('Log Loss')"
   ]
  },
  {
   "cell_type": "code",
   "execution_count": 70,
   "metadata": {
    "collapsed": true
   },
   "outputs": [],
   "source": [
    "boost = xgb.XGBRegressor(n_estimators=350)\n",
    "boost = boost.fit(data_matrix, train['SalePrice'])"
   ]
  },
  {
   "cell_type": "code",
   "execution_count": 71,
   "metadata": {
    "collapsed": true
   },
   "outputs": [],
   "source": [
    "train_preds = boost.predict(data_matrix)"
   ]
  },
  {
   "cell_type": "code",
   "execution_count": 72,
   "metadata": {
    "collapsed": false
   },
   "outputs": [
    {
     "name": "stdout",
     "output_type": "stream",
     "text": [
      "9462.83177974\n"
     ]
    }
   ],
   "source": [
    "from sklearn.metrics import mean_squared_error\n",
    "print mean_squared_error(train['SalePrice'], train_preds)**0.5"
   ]
  },
  {
   "cell_type": "code",
   "execution_count": 73,
   "metadata": {
    "collapsed": true
   },
   "outputs": [],
   "source": [
    "preds = boost.predict(test_data_matrix)"
   ]
  },
  {
   "cell_type": "code",
   "execution_count": 74,
   "metadata": {
    "collapsed": true
   },
   "outputs": [],
   "source": [
    "submission = pd.DataFrame()\n",
    "submission['Id'] = test.Id\n",
    "submission['SalePrice'] = preds"
   ]
  },
  {
   "cell_type": "code",
   "execution_count": 75,
   "metadata": {
    "collapsed": true
   },
   "outputs": [],
   "source": [
    "submission.to_csv('submission_xgb.csv', index=False)"
   ]
  },
  {
   "cell_type": "code",
   "execution_count": 77,
   "metadata": {
    "collapsed": false
   },
   "outputs": [],
   "source": [
    "from sklearn.preprocessing import PolynomialFeatures\n",
    "poly = PolynomialFeatures()\n",
    "poly_matrix = poly.fit_transform(data_matrix.toarray())"
   ]
  },
  {
   "cell_type": "code",
   "execution_count": 79,
   "metadata": {
    "collapsed": false,
    "scrolled": true
   },
   "outputs": [
    {
     "name": "stdout",
     "output_type": "stream",
     "text": [
      "Fitting 5 folds for each of 7 candidates, totalling 35 fits\n",
      "[CV] n_estimators=50 .................................................\n",
      "[CV] n_estimators=50 .................................................\n",
      "[CV] n_estimators=50 .................................................\n",
      "[CV] n_estimators=50 .................................................\n",
      "[CV] .................................. n_estimators=50, total= 1.6min\n",
      "[CV] n_estimators=50 .................................................\n",
      "[CV] .................................. n_estimators=50, total= 1.6min\n",
      "[CV] n_estimators=100 ................................................\n",
      "[CV] .................................. n_estimators=50, total= 1.6min\n",
      "[CV] n_estimators=100 ................................................\n",
      "[CV] .................................. n_estimators=50, total= 1.6min\n",
      "[CV] n_estimators=100 ................................................\n",
      "[CV] .................................. n_estimators=50, total= 1.6min\n",
      "[CV] n_estimators=100 ................................................\n",
      "[CV] ................................. n_estimators=100, total= 3.0min\n",
      "[CV] n_estimators=100 ................................................\n",
      "[CV] ................................. n_estimators=100, total= 3.0min\n",
      "[CV] n_estimators=150 ................................................\n",
      "[CV] ................................. n_estimators=100, total= 3.0min\n",
      "[CV] n_estimators=150 ................................................\n",
      "[CV] ................................. n_estimators=100, total= 3.0min\n",
      "[CV] n_estimators=150 ................................................\n",
      "[CV] ................................. n_estimators=100, total= 3.1min\n",
      "[CV] n_estimators=150 ................................................\n",
      "[CV] ................................. n_estimators=150, total= 4.5min\n",
      "[CV] n_estimators=150 ................................................\n",
      "[CV] ................................. n_estimators=150, total= 4.5min\n",
      "[CV] n_estimators=200 ................................................\n",
      "[CV] ................................. n_estimators=150, total= 4.5min\n",
      "[CV] n_estimators=200 ................................................\n",
      "[CV] ................................. n_estimators=150, total= 4.4min\n",
      "[CV] n_estimators=200 ................................................\n",
      "[CV] ................................. n_estimators=150, total= 4.4min\n",
      "[CV] n_estimators=200 ................................................\n",
      "[CV] ................................. n_estimators=200, total= 5.9min\n",
      "[CV] n_estimators=200 ................................................\n",
      "[CV] ................................. n_estimators=200, total= 5.9min\n",
      "[CV] n_estimators=250 ................................................\n",
      "[CV] ................................. n_estimators=200, total= 5.9min\n",
      "[CV] n_estimators=250 ................................................\n",
      "[CV] ................................. n_estimators=200, total= 5.9min\n",
      "[CV] n_estimators=250 ................................................\n",
      "[CV] ................................. n_estimators=200, total= 5.9min\n",
      "[CV] n_estimators=250 ................................................\n",
      "[CV] ................................. n_estimators=250, total= 7.3min\n",
      "[CV] n_estimators=250 ................................................\n",
      "[CV] ................................. n_estimators=250, total= 7.3min\n",
      "[CV] n_estimators=300 ................................................\n",
      "[CV] ................................. n_estimators=250, total= 7.3min\n",
      "[CV] n_estimators=300 ................................................\n",
      "[CV] ................................. n_estimators=250, total= 7.3min\n",
      "[CV] n_estimators=300 ................................................\n",
      "[CV] ................................. n_estimators=250, total= 7.3min\n",
      "[CV] n_estimators=300 ................................................\n",
      "[CV] ................................. n_estimators=300, total= 8.8min\n",
      "[CV] n_estimators=300 ................................................\n",
      "[CV] ................................. n_estimators=300, total= 8.8min\n",
      "[CV] n_estimators=350 ................................................\n",
      "[CV] ................................. n_estimators=300, total= 8.8min\n",
      "[CV] n_estimators=350 ................................................\n",
      "[CV] ................................. n_estimators=300, total= 8.8min\n",
      "[CV] n_estimators=350 ................................................\n",
      "[CV] ................................. n_estimators=300, total= 8.9min\n",
      "[CV] n_estimators=350 ................................................\n",
      "[CV] ................................. n_estimators=350, total=10.3min\n",
      "[CV] n_estimators=350 ................................................\n",
      "[CV] ................................. n_estimators=350, total=10.6min\n",
      "[CV] ................................. n_estimators=350, total=10.4min\n",
      "[CV] ................................. n_estimators=350, total= 9.4min\n",
      "[CV] ................................. n_estimators=350, total= 8.3min\n"
     ]
    },
    {
     "name": "stderr",
     "output_type": "stream",
     "text": [
      "[Parallel(n_jobs=-1)]: Done  35 out of  35 | elapsed: 54.7min finished\n"
     ]
    },
    {
     "name": "stdout",
     "output_type": "stream",
     "text": [
      "Best: -775668857.694446 using {'n_estimators': 350}\n",
      "-845513782.733167 (263374756.065435) with: {'n_estimators': 50}\n",
      "-796050114.857896 (246113385.258724) with: {'n_estimators': 100}\n",
      "-789245509.757389 (243050889.307853) with: {'n_estimators': 150}\n",
      "-784186835.704886 (237514195.042055) with: {'n_estimators': 200}\n",
      "-778468043.230780 (233399326.330222) with: {'n_estimators': 250}\n",
      "-776405423.497006 (230464890.716748) with: {'n_estimators': 300}\n",
      "-775668857.694446 (229071840.637852) with: {'n_estimators': 350}\n"
     ]
    },
    {
     "data": {
      "text/plain": [
       "<matplotlib.text.Text at 0x11c6e0610>"
      ]
     },
     "execution_count": 79,
     "metadata": {},
     "output_type": "execute_result"
    },
    {
     "data": {
      "image/png": "[encoded data removed]",
      "text/plain": [
       "<matplotlib.figure.Figure at 0x1182bf450>"
      ]
     },
     "metadata": {},
     "output_type": "display_data"
    }
   ],
   "source": [
    "from sklearn.model_selection import GridSearchCV\n",
    "boost = xgb.XGBRegressor()\n",
    "\n",
    "n_estimators = range(50, 400, 50)\n",
    "tuned_parameters = dict(n_estimators=n_estimators)\n",
    "grid = GridSearchCV(boost, tuned_parameters, cv=5, scoring='neg_mean_squared_error', n_jobs=-1, verbose=2)\n",
    "grid.fit(poly_matrix, train['SalePrice'])\n",
    "\n",
    "# summarize results\n",
    "print(\"Best: %f using %s\" % (grid.best_score_, grid.best_params_))\n",
    "means = grid.cv_results_['mean_test_score']\n",
    "stds = grid.cv_results_['std_test_score']\n",
    "params = grid.cv_results_['params']\n",
    "for mean, stdev, param in zip(means, stds, params):\n",
    "  print(\"%f (%f) with: %r\" % (mean, stdev, param))\n",
    "# plot\n",
    "plt.errorbar(n_estimators, means, yerr=stds) \n",
    "plt.title(\"XGBoost n_estimators vs Mean Squared Error\") \n",
    "plt.xlabel('n_estimators')\n",
    "plt.ylabel('Mean Squared Error')"
   ]
  },
  {
   "cell_type": "code",
   "execution_count": 80,
   "metadata": {
    "collapsed": true
   },
   "outputs": [],
   "source": [
    "test = test.fillna(-1)\n",
    "test_cat_matrix = dv.transform(test[cats].T.to_dict().values())\n",
    "test_data_matrix = hstack([test_cat_matrix, test[nums]])\n",
    "test_poly = poly.transform(test_data_matrix.toarray())"
   ]
  },
  {
   "cell_type": "code",
   "execution_count": 81,
   "metadata": {
    "collapsed": true
   },
   "outputs": [],
   "source": [
    "%%time\n",
    "boost = xgb.XGBRegressor(n_estimators=350)\n",
    "boost = boost.fit(poly_matrix, train['SalePrice'])"
   ]
  },
  {
   "cell_type": "code",
   "execution_count": 82,
   "metadata": {
    "collapsed": true
   },
   "outputs": [],
   "source": [
    "train_preds = boost.predict(poly_matrix)"
   ]
  },
  {
   "cell_type": "code",
   "execution_count": 83,
   "metadata": {
    "collapsed": false
   },
   "outputs": [
    {
     "name": "stdout",
     "output_type": "stream",
     "text": [
      "6681.83185759\n"
     ]
    }
   ],
   "source": [
    "from sklearn.metrics import mean_squared_error\n",
    "print mean_squared_error(train['SalePrice'], train_preds)**0.5"
   ]
  },
  {
   "cell_type": "code",
   "execution_count": 84,
   "metadata": {
    "collapsed": true
   },
   "outputs": [],
   "source": [
    "preds = boost.predict(test_poly)"
   ]
  },
  {
   "cell_type": "code",
   "execution_count": 85,
   "metadata": {
    "collapsed": true
   },
   "outputs": [],
   "source": [
    "submission = pd.DataFrame()\n",
    "submission['Id'] = test.Id\n",
    "submission['SalePrice'] = preds"
   ]
  },
  {
   "cell_type": "code",
   "execution_count": 86,
   "metadata": {
    "collapsed": true
   },
   "outputs": [],
   "source": [
    "submission.to_csv('submission_xgb.csv', index=False)"
   ]
  },
  {
   "cell_type": "code",
   "execution_count": 8,
   "metadata": {
    "collapsed": false,
    "scrolled": true
   },
   "outputs": [
    {
     "name": "stdout",
     "output_type": "stream",
     "text": [
      "Fitting 5 folds for each of 9 candidates, totalling 45 fits\n",
      "[CV] min_samples_split=5, n_estimators=10 ............................\n",
      "[CV] min_samples_split=5, n_estimators=10 ............................\n",
      "[CV] min_samples_split=5, n_estimators=10 ............................\n",
      "[CV] min_samples_split=5, n_estimators=10 ............................\n",
      "[CV] ............. min_samples_split=5, n_estimators=10, total=   1.0s\n",
      "[CV] min_samples_split=5, n_estimators=10 ............................\n",
      "[CV] ............. min_samples_split=5, n_estimators=10, total=   1.1s\n",
      "[CV] ............. min_samples_split=5, n_estimators=10, total=   1.1s\n",
      "[CV] min_samples_split=5, n_estimators=100 ...........................\n",
      "[CV] min_samples_split=5, n_estimators=100 ...........................\n",
      "[CV] ............. min_samples_split=5, n_estimators=10, total=   1.1s\n",
      "[CV] min_samples_split=5, n_estimators=100 ...........................\n",
      "[CV] ............. min_samples_split=5, n_estimators=10, total=   1.1s\n",
      "[CV] min_samples_split=5, n_estimators=100 ...........................\n",
      "[CV] ............ min_samples_split=5, n_estimators=100, total=  10.0s\n",
      "[CV] min_samples_split=5, n_estimators=100 ...........................\n",
      "[CV] ............ min_samples_split=5, n_estimators=100, total=  10.1s\n",
      "[CV] min_samples_split=5, n_estimators=1000 ..........................\n",
      "[CV] ............ min_samples_split=5, n_estimators=100, total=  10.1s\n",
      "[CV] min_samples_split=5, n_estimators=1000 ..........................\n",
      "[CV] ............ min_samples_split=5, n_estimators=100, total=  10.2s\n",
      "[CV] min_samples_split=5, n_estimators=1000 ..........................\n",
      "[CV] ............ min_samples_split=5, n_estimators=100, total=  11.5s\n",
      "[CV] min_samples_split=5, n_estimators=1000 ..........................\n",
      "[CV] ........... min_samples_split=5, n_estimators=1000, total= 1.9min\n",
      "[CV] min_samples_split=5, n_estimators=1000 ..........................\n",
      "[CV] ........... min_samples_split=5, n_estimators=1000, total= 1.9min\n",
      "[CV] min_samples_split=10, n_estimators=10 ...........................\n",
      "[CV] ............ min_samples_split=10, n_estimators=10, total=   0.8s\n",
      "[CV] min_samples_split=10, n_estimators=10 ...........................\n",
      "[CV] ........... min_samples_split=5, n_estimators=1000, total= 1.9min\n",
      "[CV] min_samples_split=10, n_estimators=10 ...........................\n",
      "[CV] ............ min_samples_split=10, n_estimators=10, total=   0.8s\n",
      "[CV] min_samples_split=10, n_estimators=10 ...........................\n",
      "[CV] ............ min_samples_split=10, n_estimators=10, total=   0.8s\n",
      "[CV] min_samples_split=10, n_estimators=10 ...........................\n",
      "[CV] ............ min_samples_split=10, n_estimators=10, total=   0.9s\n",
      "[CV] min_samples_split=10, n_estimators=100 ..........................\n",
      "[CV] ............ min_samples_split=10, n_estimators=10, total=   0.9s\n",
      "[CV] min_samples_split=10, n_estimators=100 ..........................\n",
      "[CV] ........... min_samples_split=5, n_estimators=1000, total= 1.9min\n",
      "[CV] min_samples_split=10, n_estimators=100 ..........................\n",
      "[CV] ........... min_samples_split=10, n_estimators=100, total=   9.3s\n",
      "[CV] min_samples_split=10, n_estimators=100 ..........................\n",
      "[CV] ........... min_samples_split=10, n_estimators=100, total=   9.3s\n",
      "[CV] min_samples_split=10, n_estimators=100 ..........................\n",
      "[CV] ........... min_samples_split=10, n_estimators=100, total=   9.8s\n",
      "[CV] min_samples_split=10, n_estimators=1000 .........................\n",
      "[CV] ........... min_samples_split=10, n_estimators=100, total=   9.7s\n",
      "[CV] min_samples_split=10, n_estimators=1000 .........................\n",
      "[CV] ........... min_samples_split=10, n_estimators=100, total=   9.5s\n",
      "[CV] min_samples_split=10, n_estimators=1000 .........................\n",
      "[CV] .......... min_samples_split=10, n_estimators=1000, total= 1.5min\n",
      "[CV] min_samples_split=10, n_estimators=1000 .........................\n",
      "[CV] .......... min_samples_split=10, n_estimators=1000, total= 1.5min\n",
      "[CV] min_samples_split=10, n_estimators=1000 .........................\n",
      "[CV] .......... min_samples_split=10, n_estimators=1000, total= 1.5min\n",
      "[CV] min_samples_split=20, n_estimators=10 ...........................\n",
      "[CV] ............ min_samples_split=20, n_estimators=10, total=   0.6s\n",
      "[CV] min_samples_split=20, n_estimators=10 ...........................\n",
      "[CV] ............ min_samples_split=20, n_estimators=10, total=   0.6s\n",
      "[CV] min_samples_split=20, n_estimators=10 ...........................\n",
      "[CV] ............ min_samples_split=20, n_estimators=10, total=   0.6s\n",
      "[CV] min_samples_split=20, n_estimators=10 ...........................\n",
      "[CV] ............ min_samples_split=20, n_estimators=10, total=   0.5s\n",
      "[CV] min_samples_split=20, n_estimators=10 ...........................\n",
      "[CV] ........... min_samples_split=5, n_estimators=1000, total= 1.9min\n",
      "[CV] min_samples_split=20, n_estimators=100 ..........................\n",
      "[CV] ............ min_samples_split=20, n_estimators=10, total=   0.5s\n",
      "[CV] min_samples_split=20, n_estimators=100 ..........................\n"
     ]
    },
    {
     "name": "stderr",
     "output_type": "stream",
     "text": [
      "[Parallel(n_jobs=-1)]: Done  33 tasks      | elapsed:  4.0min\n"
     ]
    },
    {
     "name": "stdout",
     "output_type": "stream",
     "text": [
      "[CV] ........... min_samples_split=20, n_estimators=100, total=   5.2s\n",
      "[CV] min_samples_split=20, n_estimators=100 ..........................\n",
      "[CV] ........... min_samples_split=20, n_estimators=100, total=   5.2s\n",
      "[CV] min_samples_split=20, n_estimators=100 ..........................\n",
      "[CV] ........... min_samples_split=20, n_estimators=100, total=   5.4s\n",
      "[CV] min_samples_split=20, n_estimators=100 ..........................\n",
      "[CV] ........... min_samples_split=20, n_estimators=100, total=   5.4s\n",
      "[CV] min_samples_split=20, n_estimators=1000 .........................\n",
      "[CV] ........... min_samples_split=20, n_estimators=100, total=   5.5s\n",
      "[CV] min_samples_split=20, n_estimators=1000 .........................\n",
      "[CV] .......... min_samples_split=20, n_estimators=1000, total=  53.4s\n",
      "[CV] min_samples_split=20, n_estimators=1000 .........................\n",
      "[CV] .......... min_samples_split=20, n_estimators=1000, total=  53.2s\n",
      "[CV] min_samples_split=20, n_estimators=1000 .........................\n",
      "[CV] .......... min_samples_split=10, n_estimators=1000, total= 1.4min\n",
      "[CV] min_samples_split=20, n_estimators=1000 .........................\n",
      "[CV] .......... min_samples_split=10, n_estimators=1000, total= 1.4min\n",
      "[CV] .......... min_samples_split=20, n_estimators=1000, total=  49.4s\n",
      "[CV] .......... min_samples_split=20, n_estimators=1000, total=  47.8s\n",
      "[CV] .......... min_samples_split=20, n_estimators=1000, total=  44.1s\n"
     ]
    },
    {
     "name": "stderr",
     "output_type": "stream",
     "text": [
      "[Parallel(n_jobs=-1)]: Done  45 out of  45 | elapsed:  6.1min finished\n"
     ]
    },
    {
     "name": "stdout",
     "output_type": "stream",
     "text": [
      "GridSearchCV(cv=5, error_score='raise',\n",
      "       estimator=RandomForestRegressor(bootstrap=True, criterion='mse', max_depth=None,\n",
      "           max_features='auto', max_leaf_nodes=None,\n",
      "           min_impurity_decrease=0.0, min_impurity_split=None,\n",
      "           min_samples_leaf=1, min_samples_split=2,\n",
      "           min_weight_fraction_leaf=0.0, n_estimators=10, n_jobs=1,\n",
      "           oob_score=False, random_state=None, verbose=0, warm_start=False),\n",
      "       fit_params=None, iid=True, n_jobs=-1,\n",
      "       param_grid=[{'n_estimators': [10, 100, 1000], 'min_samples_split': [5, 10, 20]}],\n",
      "       pre_dispatch='2*n_jobs', refit=True, return_train_score=True,\n",
      "       scoring='neg_mean_squared_error', verbose=2)\n",
      "-900071013.75\n",
      "RandomForestRegressor(bootstrap=True, criterion='mse', max_depth=None,\n",
      "           max_features='auto', max_leaf_nodes=None,\n",
      "           min_impurity_decrease=0.0, min_impurity_split=None,\n",
      "           min_samples_leaf=1, min_samples_split=5,\n",
      "           min_weight_fraction_leaf=0.0, n_estimators=100, n_jobs=1,\n",
      "           oob_score=False, random_state=None, verbose=0, warm_start=False)\n"
     ]
    }
   ],
   "source": [
    "from sklearn.model_selection import GridSearchCV\n",
    "from sklearn.ensemble import RandomForestRegressor\n",
    "\n",
    "tuned_parameters = [{'n_estimators': [10, 100, 1000], 'min_samples_split': [5, 10, 20]}]\n",
    "grid = GridSearchCV(RandomForestRegressor(), tuned_parameters, cv=5, scoring='neg_mean_squared_error', n_jobs=-1, verbose=2)\n",
    "grid.fit(data_matrix, train['SalePrice'])\n",
    "print(grid)\n",
    "# summarize the results of the grid search\n",
    "print(grid.best_score_)\n",
    "print(grid.best_estimator_)"
   ]
  },
  {
   "cell_type": "code",
   "execution_count": 16,
   "metadata": {
    "collapsed": true
   },
   "outputs": [],
   "source": [
    "forest = RandomForestRegressor(min_samples_split=5, n_estimators=100, n_jobs=-1)\n",
    "forest = forest.fit(data_matrix, train['SalePrice'])"
   ]
  },
  {
   "cell_type": "code",
   "execution_count": 17,
   "metadata": {
    "collapsed": true
   },
   "outputs": [],
   "source": [
    "train_preds = forest.predict(data_matrix)"
   ]
  },
  {
   "cell_type": "code",
   "execution_count": 18,
   "metadata": {
    "collapsed": false
   },
   "outputs": [
    {
     "name": "stdout",
     "output_type": "stream",
     "text": [
      "12649.2817084\n"
     ]
    }
   ],
   "source": [
    "from sklearn.metrics import mean_squared_error\n",
    "print mean_squared_error(train['SalePrice'], train_preds)**0.5"
   ]
  },
  {
   "cell_type": "code",
   "execution_count": 20,
   "metadata": {
    "collapsed": true
   },
   "outputs": [],
   "source": [
    "preds = forest.predict(test_data_matrix)"
   ]
  },
  {
   "cell_type": "code",
   "execution_count": 21,
   "metadata": {
    "collapsed": true
   },
   "outputs": [],
   "source": [
    "submission = pd.DataFrame()\n",
    "submission['Id'] = test.Id\n",
    "submission['SalePrice'] = preds"
   ]
  },
  {
   "cell_type": "code",
   "execution_count": 22,
   "metadata": {
    "collapsed": true
   },
   "outputs": [],
   "source": [
    "submission.to_csv('submission_forest.csv', index=False)"
   ]
  }
 ],
 "metadata": {
  "kernelspec": {
   "display_name": "Python 2",
   "language": "python",
   "name": "python2"
  },
  "language_info": {
   "codemirror_mode": {
    "name": "ipython",
    "version": 2
   },
   "file_extension": ".py",
   "mimetype": "text/x-python",
   "name": "python",
   "nbconvert_exporter": "python",
   "pygments_lexer": "ipython2",
   "version": "2.7.13"
  }
 },
 "nbformat": 4,
 "nbformat_minor": 2
}
