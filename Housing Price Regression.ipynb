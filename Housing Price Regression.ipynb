{
 "cells": [
  {
   "cell_type": "code",
   "execution_count": 1,
   "metadata": {
    "collapsed": false
   },
   "outputs": [
    {
     "name": "stderr",
     "output_type": "stream",
     "text": [
      "//anaconda/lib/python2.7/site-packages/sklearn/cross_validation.py:41: DeprecationWarning: This module was deprecated in version 0.18 in favor of the model_selection module into which all the refactored classes and functions are moved. Also note that the interface of the new CV iterators are different from that of this module. This module will be removed in 0.20.\n",
      "  \"This module will be removed in 0.20.\", DeprecationWarning)\n"
     ]
    }
   ],
   "source": [
    "import pandas as pd\n",
    "import numpy as np\n",
    "import matplotlib.pyplot as plt\n",
    "%matplotlib inline\n",
    "from scipy.stats import skew\n",
    "from scipy.sparse import hstack\n",
    "from sklearn.model_selection import train_test_split\n",
    "import xgboost as xgb"
   ]
  },
  {
   "cell_type": "code",
   "execution_count": 2,
   "metadata": {
    "collapsed": false
   },
   "outputs": [],
   "source": [
    "### Root Mean Squared Log Error function for GridSearch\n",
    "from sklearn.metrics import make_scorer\n",
    "def rmsle(predicted, actual):\n",
    "    assert(len(predicted) == len(actual))\n",
    "    p = np.log(np.array(predicted) + 1)\n",
    "    a = np.log(np.array(actual) + 1)\n",
    "    return (((p - a)**2).sum() / len(predicted))**0.5\n",
    "rmsle_loss = make_scorer(rmsle, greater_is_better=False)"
   ]
  },
  {
   "cell_type": "code",
   "execution_count": 3,
   "metadata": {
    "collapsed": true
   },
   "outputs": [],
   "source": [
    "train = pd.read_csv('train.csv')\n",
    "test = pd.read_csv('test.csv')"
   ]
  },
  {
   "cell_type": "code",
   "execution_count": 4,
   "metadata": {
    "collapsed": false
   },
   "outputs": [],
   "source": [
    "### Conversion to float32 and int32\n",
    "for c, dtype in zip(train.columns, train.dtypes):\n",
    "    if dtype == np.float64:\n",
    "        train[c] = train[c].astype(np.float32)\n",
    "for c, dtype in zip(test.columns, test.dtypes):\n",
    "    if dtype == np.float64:\n",
    "        test[c] = test[c].astype(np.float32)\n",
    "for c, dtype in zip(train.columns, train.dtypes):\n",
    "    if dtype == np.int64:\n",
    "        train[c] = train[c].astype(np.int32)\n",
    "for c, dtype in zip(test.columns, test.dtypes):\n",
    "    if dtype == np.int64:\n",
    "        test[c] = test[c].astype(np.int32)"
   ]
  },
  {
   "cell_type": "code",
   "execution_count": 5,
   "metadata": {
    "collapsed": true
   },
   "outputs": [],
   "source": [
    "cats = ['Alley', 'BldgType', 'BsmtCond', 'BsmtExposure', \n",
    "        'BsmtFinType1', 'BsmtFinType2', 'BsmtQual', 'CentralAir',\n",
    "        'Condition1', 'Condition2', 'Electrical', 'ExterCond', \n",
    "        'Exterior1st', 'Exterior2nd', 'ExterQual', 'Fence', \n",
    "        'FireplaceQu', 'Foundation', 'Functional', 'GarageCond', \n",
    "        'GarageFinish', 'GarageQual', 'GarageType', 'Heating', \n",
    "        'HeatingQC', 'HouseStyle', 'KitchenQual', 'LandContour', \n",
    "        'LandSlope', 'LotConfig', 'LotShape', 'MasVnrType', \n",
    "        'MiscFeature', 'MoSold', 'MSSubClass', 'MSZoning', \n",
    "        'Neighborhood', 'PavedDrive', 'PoolQC', 'RoofMatl', 'RoofStyle', \n",
    "        'SaleCondition', 'SaleType', 'Street', 'Utilities']\n",
    "nums = ['GarageYrBlt', 'LotFrontage', 'MasVnrArea', '1stFlrSF', \n",
    "        '2ndFlrSF', '3SsnPorch', 'BedroomAbvGr', 'BsmtFinSF1', \n",
    "        'BsmtFinSF2', 'BsmtFullBath', 'BsmtHalfBath', \n",
    "        'BsmtUnfSF', 'EnclosedPorch', 'Fireplaces', 'FullBath', \n",
    "        'GarageArea', 'GarageCars', 'GrLivArea', 'HalfBath', \n",
    "        'KitchenAbvGr', 'LotArea', 'LowQualFinSF', 'MiscVal', \n",
    "        'OpenPorchSF', 'OverallCond', 'OverallQual', 'PoolArea', \n",
    "        'ScreenPorch', 'TotalBsmtSF', 'TotRmsAbvGrd', \n",
    "        'WoodDeckSF', 'YearBuilt', 'YearRemodAdd', 'YrSold']"
   ]
  },
  {
   "cell_type": "code",
   "execution_count": 6,
   "metadata": {
    "collapsed": false
   },
   "outputs": [],
   "source": [
    "### Fill NAs with -1 and convert MSSubClass to strings\n",
    "### since they are integers but are actually\n",
    "### unordered categorical\n",
    "# train = train.fillna(-1)\n",
    "train['MSSubClass'] = train['MSSubClass'].astype(str)"
   ]
  },
  {
   "cell_type": "code",
   "execution_count": 7,
   "metadata": {
    "collapsed": true
   },
   "outputs": [],
   "source": [
    "#log transform the target:\n",
    "train[\"SalePrice\"] = np.log1p(train[\"SalePrice\"])\n",
    "\n",
    "skewed_feats = train[nums].apply(lambda x: skew(x.dropna())) #compute skewness\n",
    "skewed_feats = skewed_feats[skewed_feats > 0.75]\n",
    "skewed_feats = skewed_feats.index\n",
    "\n",
    "train[skewed_feats] = np.log1p(train[skewed_feats])"
   ]
  },
  {
   "cell_type": "code",
   "execution_count": 8,
   "metadata": {
    "collapsed": true
   },
   "outputs": [],
   "source": [
    "features = [c for c in train.columns if c not in['Id','SalePrice']]"
   ]
  },
  {
   "cell_type": "code",
   "execution_count": 9,
   "metadata": {
    "collapsed": true
   },
   "outputs": [],
   "source": [
    "from sklearn.feature_extraction import DictVectorizer\n",
    "dv = DictVectorizer().fit(train[cats].T.to_dict().values())\n",
    "cat_matrix = dv.transform(train[cats].T.to_dict().values())"
   ]
  },
  {
   "cell_type": "code",
   "execution_count": 10,
   "metadata": {
    "collapsed": false
   },
   "outputs": [],
   "source": [
    "train[nums] = train[nums].fillna(train[nums].mean())"
   ]
  },
  {
   "cell_type": "code",
   "execution_count": 11,
   "metadata": {
    "collapsed": false
   },
   "outputs": [],
   "source": [
    "from sklearn.preprocessing import PolynomialFeatures\n",
    "poly = PolynomialFeatures(degree=3)\n",
    "# poly_matrix = poly.fit_transform(data_matrix.toarray())\n",
    "poly_matrix = poly.fit_transform(train[nums])"
   ]
  },
  {
   "cell_type": "code",
   "execution_count": 12,
   "metadata": {
    "collapsed": true
   },
   "outputs": [],
   "source": [
    "data_matrix = hstack([cat_matrix, poly_matrix])"
   ]
  },
  {
   "cell_type": "code",
   "execution_count": 13,
   "metadata": {
    "collapsed": true
   },
   "outputs": [],
   "source": [
    "X_train, X_test, y_train, y_test = train_test_split(data_matrix, train['SalePrice'], test_size=0.33, random_state=42)"
   ]
  },
  {
   "cell_type": "code",
   "execution_count": 14,
   "metadata": {
    "collapsed": false
   },
   "outputs": [
    {
     "name": "stdout",
     "output_type": "stream",
     "text": [
      "CPU times: user 2.2 s, sys: 134 ms, total: 2.34 s\n",
      "Wall time: 2.34 s\n"
     ]
    }
   ],
   "source": [
    "%%time\n",
    "d_train = xgb.DMatrix(X_train, label=y_train)\n",
    "d_test = xgb.DMatrix(X_test, label=y_test)"
   ]
  },
  {
   "cell_type": "code",
   "execution_count": null,
   "metadata": {
    "collapsed": false,
    "scrolled": true
   },
   "outputs": [
    {
     "name": "stdout",
     "output_type": "stream",
     "text": [
      "Fitting 3 folds for each of 4 candidates, totalling 12 fits\n",
      "[CV] n_estimators=50 .................................................\n",
      "[CV] n_estimators=50 .................................................\n",
      "[CV] n_estimators=50 .................................................\n",
      "[CV] n_estimators=100 ................................................\n",
      "[CV] .................................. n_estimators=50, total=  22.1s\n",
      "[CV] n_estimators=100 ................................................\n",
      "[CV] .................................. n_estimators=50, total=  22.4s\n",
      "[CV] n_estimators=100 ................................................\n",
      "[CV] .................................. n_estimators=50, total=  22.7s\n",
      "[CV] n_estimators=200 ................................................\n",
      "[CV] ................................. n_estimators=100, total=  42.0s\n",
      "[CV] n_estimators=200 ................................................\n",
      "[CV] ................................. n_estimators=100, total=  43.0s\n",
      "[CV] n_estimators=200 ................................................\n",
      "[CV] ................................. n_estimators=100, total=  43.8s\n",
      "[CV] n_estimators=300 ................................................\n"
     ]
    }
   ],
   "source": [
    "%%time\n",
    "from sklearn.model_selection import GridSearchCV\n",
    "boost = xgb.XGBRegressor()\n",
    "n_estimators = [50, 100, 200, 300]\n",
    "tuned_parameters = dict(n_estimators=n_estimators)\n",
    "grid = GridSearchCV(boost, tuned_parameters, cv=3, scoring=rmsle_loss, n_jobs=-1, verbose=2)\n",
    "grid.fit(data_matrix, train['SalePrice'])"
   ]
  },
  {
   "cell_type": "code",
   "execution_count": null,
   "metadata": {
    "collapsed": false,
    "scrolled": true
   },
   "outputs": [],
   "source": [
    "# summarize results\n",
    "print(\"Best: %f using %s\" % (grid.best_score_, grid.best_params_))\n",
    "means = grid.cv_results_['mean_test_score']\n",
    "stds = grid.cv_results_['std_test_score']\n",
    "params = grid.cv_results_['params']\n",
    "for mean, stdev, param in zip(means, stds, params):\n",
    "  print(\"%f (%f) with: %r\" % (mean, stdev, param))"
   ]
  },
  {
   "cell_type": "code",
   "execution_count": null,
   "metadata": {
    "collapsed": false
   },
   "outputs": [],
   "source": [
    "# plot\n",
    "# scores = np.array(means).reshape(len(learning_rate), len(max_depth), len(n_estimators))\n",
    "# for i, value in enumerate(learning_rate):\n",
    "#     plt.plot(n_estimators, scores[i][1], label='learning_rate: ' + str(value)) \n",
    "plt.errorbar(n_estimators, means, yerr=stds)\n",
    "plt.legend()\n",
    "plt.xlabel('n_estimators')\n",
    "plt.ylabel('Mean Squared Error')\n",
    "# print scores"
   ]
  },
  {
   "cell_type": "code",
   "execution_count": 18,
   "metadata": {
    "collapsed": false,
    "scrolled": true
   },
   "outputs": [
    {
     "name": "stdout",
     "output_type": "stream",
     "text": [
      "[0]\ttrain-rmse:10.3843\ttest-rmse:10.372\n",
      "Multiple eval metrics have been passed: 'test-rmse' will be used for early stopping.\n",
      "\n",
      "Will train until test-rmse hasn't improved in 100 rounds.\n",
      "[10]\ttrain-rmse:3.63794\ttest-rmse:3.63449\n",
      "[20]\ttrain-rmse:1.2848\ttest-rmse:1.29076\n",
      "[30]\ttrain-rmse:0.468604\ttest-rmse:0.480204\n",
      "[40]\ttrain-rmse:0.197933\ttest-rmse:0.224493\n",
      "[50]\ttrain-rmse:0.1231\ttest-rmse:0.161746\n",
      "[60]\ttrain-rmse:0.105212\ttest-rmse:0.149469\n",
      "[70]\ttrain-rmse:0.099518\ttest-rmse:0.146403\n",
      "[80]\ttrain-rmse:0.095319\ttest-rmse:0.144984\n",
      "[90]\ttrain-rmse:0.092218\ttest-rmse:0.143405\n",
      "[100]\ttrain-rmse:0.089085\ttest-rmse:0.142976\n",
      "[110]\ttrain-rmse:0.086647\ttest-rmse:0.142476\n",
      "[120]\ttrain-rmse:0.084124\ttest-rmse:0.141876\n",
      "[130]\ttrain-rmse:0.082318\ttest-rmse:0.141479\n",
      "[140]\ttrain-rmse:0.080699\ttest-rmse:0.140976\n",
      "[150]\ttrain-rmse:0.079011\ttest-rmse:0.140629\n",
      "[160]\ttrain-rmse:0.07726\ttest-rmse:0.140055\n",
      "[170]\ttrain-rmse:0.075685\ttest-rmse:0.140689\n",
      "[180]\ttrain-rmse:0.074357\ttest-rmse:0.140709\n",
      "[190]\ttrain-rmse:0.072775\ttest-rmse:0.139931\n",
      "[200]\ttrain-rmse:0.071672\ttest-rmse:0.139747\n",
      "[210]\ttrain-rmse:0.07023\ttest-rmse:0.139713\n",
      "[220]\ttrain-rmse:0.068973\ttest-rmse:0.139198\n",
      "[230]\ttrain-rmse:0.068187\ttest-rmse:0.138818\n",
      "[240]\ttrain-rmse:0.066625\ttest-rmse:0.138563\n",
      "[250]\ttrain-rmse:0.065326\ttest-rmse:0.138523\n",
      "[260]\ttrain-rmse:0.064442\ttest-rmse:0.138539\n",
      "[270]\ttrain-rmse:0.063203\ttest-rmse:0.138651\n",
      "[280]\ttrain-rmse:0.062133\ttest-rmse:0.138631\n",
      "[290]\ttrain-rmse:0.061203\ttest-rmse:0.138441\n",
      "[300]\ttrain-rmse:0.059897\ttest-rmse:0.138231\n",
      "[310]\ttrain-rmse:0.058919\ttest-rmse:0.138174\n",
      "[320]\ttrain-rmse:0.058004\ttest-rmse:0.138148\n",
      "[330]\ttrain-rmse:0.056802\ttest-rmse:0.138164\n",
      "[340]\ttrain-rmse:0.055973\ttest-rmse:0.138225\n",
      "[350]\ttrain-rmse:0.055008\ttest-rmse:0.138361\n",
      "[360]\ttrain-rmse:0.054119\ttest-rmse:0.138044\n",
      "[370]\ttrain-rmse:0.053246\ttest-rmse:0.138389\n",
      "[380]\ttrain-rmse:0.052671\ttest-rmse:0.138162\n",
      "[390]\ttrain-rmse:0.051707\ttest-rmse:0.1381\n",
      "[400]\ttrain-rmse:0.050913\ttest-rmse:0.138229\n",
      "Stopping. Best iteration:\n",
      "[304]\ttrain-rmse:0.059491\ttest-rmse:0.137898\n",
      "\n",
      "CPU times: user 53.6 s, sys: 203 ms, total: 53.8 s\n",
      "Wall time: 54.1 s\n"
     ]
    }
   ],
   "source": [
    "%%time\n",
    "params = {}\n",
    "params['eta'] = 0.1\n",
    "params['objective'] = 'reg:linear'\n",
    "params['eval_metric'] = 'rmse'\n",
    "params['max_depth'] = 2\n",
    "params['silent'] = 1\n",
    "params['learning_rate'] = 0.1\n",
    "params['subsample']= 0.8\n",
    "\n",
    "watchlist = [(d_train, 'train'), (d_test, 'test')]\n",
    "boost = xgb.train(params, d_train, 10000, watchlist, early_stopping_rounds=100, verbose_eval=10)"
   ]
  },
  {
   "cell_type": "code",
   "execution_count": 19,
   "metadata": {
    "collapsed": false
   },
   "outputs": [
    {
     "name": "stdout",
     "output_type": "stream",
     "text": [
      "CPU times: user 4.81 ms, sys: 1.63 ms, total: 6.44 ms\n",
      "Wall time: 5.08 ms\n"
     ]
    }
   ],
   "source": [
    "%%time\n",
    "train_preds = boost.predict(d_test)"
   ]
  },
  {
   "cell_type": "code",
   "execution_count": 20,
   "metadata": {
    "collapsed": false
   },
   "outputs": [
    {
     "name": "stdout",
     "output_type": "stream",
     "text": [
      "0.0107893111323\n",
      "CPU times: user 747 µs, sys: 581 µs, total: 1.33 ms\n",
      "Wall time: 789 µs\n"
     ]
    }
   ],
   "source": [
    "%%time\n",
    "from sklearn.metrics import mean_squared_log_error\n",
    "print rmsle(y_test, train_preds)"
   ]
  },
  {
   "cell_type": "code",
   "execution_count": null,
   "metadata": {
    "collapsed": false
   },
   "outputs": [],
   "source": [
    "%%time\n",
    "test['MSSubClass'] = test['MSSubClass'].astype(str)\n",
    "test_cat_matrix = dv.transform(test[cats].T.to_dict().values())\n",
    "test[nums] = test[nums].fillna(test[nums].mean())\n",
    "test_poly = poly.transform(test[nums])\n",
    "test_data_matrix = hstack([test_cat_matrix, test_poly])\n",
    "d_test = xgb.DMatrix(test_data_matrix)"
   ]
  },
  {
   "cell_type": "code",
   "execution_count": null,
   "metadata": {
    "collapsed": false
   },
   "outputs": [],
   "source": [
    "preds = np.expm1(boost.predict(d_test))"
   ]
  },
  {
   "cell_type": "code",
   "execution_count": null,
   "metadata": {
    "collapsed": true
   },
   "outputs": [],
   "source": [
    "submission = pd.DataFrame()\n",
    "submission['Id'] = test.Id\n",
    "submission['SalePrice'] = preds"
   ]
  },
  {
   "cell_type": "code",
   "execution_count": null,
   "metadata": {
    "collapsed": true
   },
   "outputs": [],
   "source": [
    "submission.to_csv('submission_xgb.csv', index=False)"
   ]
  },
  {
   "cell_type": "code",
   "execution_count": null,
   "metadata": {
    "collapsed": true
   },
   "outputs": [],
   "source": []
  }
 ],
 "metadata": {
  "kernelspec": {
   "display_name": "Python 2",
   "language": "python",
   "name": "python2"
  },
  "language_info": {
   "codemirror_mode": {
    "name": "ipython",
    "version": 2
   },
   "file_extension": ".py",
   "mimetype": "text/x-python",
   "name": "python",
   "nbconvert_exporter": "python",
   "pygments_lexer": "ipython2",
   "version": "2.7.13"
  }
 },
 "nbformat": 4,
 "nbformat_minor": 2
}
