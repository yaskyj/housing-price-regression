{
 "cells": [
  {
   "cell_type": "code",
   "execution_count": 1,
   "metadata": {},
   "outputs": [
    {
     "name": "stderr",
     "output_type": "stream",
     "text": [
      "//anaconda/lib/python2.7/site-packages/sklearn/cross_validation.py:41: DeprecationWarning: This module was deprecated in version 0.18 in favor of the model_selection module into which all the refactored classes and functions are moved. Also note that the interface of the new CV iterators are different from that of this module. This module will be removed in 0.20.\n",
      "  \"This module will be removed in 0.20.\", DeprecationWarning)\n"
     ]
    }
   ],
   "source": [
    "import pandas as pd\n",
    "import numpy as np\n",
    "import matplotlib.pyplot as plt\n",
    "%matplotlib inline\n",
    "from sklearn.model_selection import train_test_split\n",
    "import xgboost as xgb"
   ]
  },
  {
   "cell_type": "code",
   "execution_count": 2,
   "metadata": {
    "collapsed": true
   },
   "outputs": [],
   "source": [
    "### Create train dataframe\n",
    "train = pd.read_csv('train.csv')"
   ]
  },
  {
   "cell_type": "code",
   "execution_count": 3,
   "metadata": {
    "collapsed": true
   },
   "outputs": [],
   "source": [
    "### Create overall features without Id and targets\n",
    "train['target'] = np.log1p(train[\"SalePrice\"])\n",
    "features = [c for c in train.columns if c not in['Id','SalePrice', 'target']]"
   ]
  },
  {
   "cell_type": "code",
   "execution_count": 4,
   "metadata": {
    "collapsed": true
   },
   "outputs": [],
   "source": [
    "### Create lists containing the numerical and categorical columns\n",
    "cats = []\n",
    "nums = []\n",
    "for c, dtype in zip(train[features].columns, train[features].dtypes):\n",
    "    if dtype == 'object':\n",
    "        cats.append(c)\n",
    "    else:\n",
    "        nums.append(c)"
   ]
  },
  {
   "cell_type": "code",
   "execution_count": 5,
   "metadata": {
    "collapsed": true
   },
   "outputs": [],
   "source": [
    "### Impute means for all nulls in numerical features\n",
    "from sklearn.preprocessing import Imputer\n",
    "imputer = Imputer()\n",
    "imputer = imputer.fit(train[nums])\n",
    "train[nums] = imputer.transform(train[nums])"
   ]
  },
  {
   "cell_type": "code",
   "execution_count": 6,
   "metadata": {
    "collapsed": true
   },
   "outputs": [],
   "source": [
    "### Calculate skewness of numerical features and transforms\n",
    "from scipy.stats import skew\n",
    "skewed_feats = train[nums].apply(lambda x: skew(x.dropna()))\n",
    "skewed_feats = skewed_feats[skewed_feats > 0.75]\n",
    "skewed_feats = skewed_feats.index\n",
    "train[skewed_feats] = np.log1p(train[skewed_feats])"
   ]
  },
  {
   "cell_type": "code",
   "execution_count": 7,
   "metadata": {
    "collapsed": true
   },
   "outputs": [],
   "source": [
    "### Scale numerical features\n",
    "from sklearn.preprocessing import MinMaxScaler\n",
    "scaler = MinMaxScaler()\n",
    "train[nums] = scaler.fit_transform(train[nums])"
   ]
  },
  {
   "cell_type": "code",
   "execution_count": 8,
   "metadata": {
    "collapsed": true
   },
   "outputs": [],
   "source": [
    "### Add dummy variables for categories\n",
    "train = pd.get_dummies(train, columns = cats)"
   ]
  },
  {
   "cell_type": "code",
   "execution_count": 9,
   "metadata": {
    "collapsed": true
   },
   "outputs": [],
   "source": [
    "### Recreate overall features without Id and targets\n",
    "features = [c for c in train.columns if c not in['Id','SalePrice', 'target']]"
   ]
  },
  {
   "cell_type": "code",
   "execution_count": 10,
   "metadata": {},
   "outputs": [
    {
     "name": "stdout",
     "output_type": "stream",
     "text": [
      "OverallQual 2930.79939346\n",
      "YearBuilt 764.779834949\n",
      "YearRemodAdd 685.840721007\n",
      "1stFlrSF 859.324879374\n",
      "GrLivArea 1665.86552002\n",
      "FullBath 798.100327964\n",
      "GarageCars 1258.34949271\n",
      "GarageArea 1071.73379994\n",
      "ExterQual_TA 802.728716845\n",
      "KitchenQual_TA 594.652569296\n"
     ]
    }
   ],
   "source": [
    "### Select ten top features (should be the same top ten from the correlation above)\n",
    "from sklearn.feature_selection import SelectKBest\n",
    "from sklearn.feature_selection import f_regression\n",
    "selector = SelectKBest(f_regression, k=10).fit(train[features], train['target'])\n",
    "feat_scores = [(a,t) for a, t, z in zip(features, selector.scores_, selector.get_support()) if z] \n",
    "for i in  feat_scores: print i[0], i[1]"
   ]
  },
  {
   "cell_type": "code",
   "execution_count": 11,
   "metadata": {
    "collapsed": true
   },
   "outputs": [],
   "source": [
    "### Take the features selected by SelectKBest\n",
    "top_ten_features = [a for a, t in zip(features, selector.get_support()) if t]"
   ]
  },
  {
   "cell_type": "code",
   "execution_count": 12,
   "metadata": {
    "collapsed": true
   },
   "outputs": [],
   "source": [
    "### Root Mean Squared Log Error function for GridSearch\n",
    "from sklearn.metrics import make_scorer\n",
    "def rmsle(predicted, actual):\n",
    "    assert(len(predicted) == len(actual))\n",
    "    p = np.log(np.array(predicted) + 1)\n",
    "    a = np.log(np.array(actual) + 1)\n",
    "    return (((p - a)**2).sum() / len(predicted))**0.5\n",
    "rmsle_loss = make_scorer(rmsle, greater_is_better=False)"
   ]
  },
  {
   "cell_type": "code",
   "execution_count": 13,
   "metadata": {
    "collapsed": true
   },
   "outputs": [],
   "source": [
    "### Split into train and test\n",
    "X_train, X_test, y_train, y_test = train_test_split(train[top_ten_features], train['target'], test_size=0.30, random_state=42)"
   ]
  },
  {
   "cell_type": "code",
   "execution_count": 14,
   "metadata": {
    "scrolled": true
   },
   "outputs": [
    {
     "name": "stdout",
     "output_type": "stream",
     "text": [
      "Fitting 3 folds for each of 4 candidates, totalling 12 fits\n",
      "[CV] n_estimators=50 .................................................\n",
      "[CV] n_estimators=50 .................................................\n",
      "[CV] n_estimators=50 .................................................\n",
      "[CV] n_estimators=100 ................................................\n",
      "[CV] .................................. n_estimators=50, total=   0.1s\n",
      "[CV] .................................. n_estimators=50, total=   0.1s\n",
      "[CV] n_estimators=100 ................................................\n",
      "[CV] n_estimators=100 ................................................\n",
      "[CV] .................................. n_estimators=50, total=   0.1s\n",
      "[CV] n_estimators=200 ................................................\n",
      "[CV] ................................. n_estimators=100, total=   0.1s\n",
      "[CV] n_estimators=200 ................................................\n",
      "[CV] ................................. n_estimators=100, total=   0.1s\n",
      "[CV] ................................. n_estimators=100, total=   0.1s\n",
      "[CV] n_estimators=200 ................................................\n",
      "[CV] ................................. n_estimators=200, total=   0.2s\n",
      "[CV] ................................. n_estimators=200, total=   0.1s\n",
      "[CV] ................................. n_estimators=200, total=   0.1s\n",
      "[CV] n_estimators=300 ................................................\n"
     ]
    },
    {
     "name": "stderr",
     "output_type": "stream",
     "text": [
      "[Parallel(n_jobs=-1)]: Done   5 out of  12 | elapsed:    0.2s remaining:    0.3s\n"
     ]
    },
    {
     "name": "stdout",
     "output_type": "stream",
     "text": [
      "[CV] ................................. n_estimators=300, total=   0.1s\n",
      "[CV] n_estimators=300 ................................................\n",
      "[CV] ................................. n_estimators=300, total=   0.1s\n",
      "[CV] n_estimators=300 ................................................\n",
      "[CV] ................................. n_estimators=300, total=   0.1s\n",
      "CPU times: user 202 ms, sys: 48.8 ms, total: 251 ms\n",
      "Wall time: 980 ms\n"
     ]
    },
    {
     "name": "stderr",
     "output_type": "stream",
     "text": [
      "[Parallel(n_jobs=-1)]: Done  12 out of  12 | elapsed:    0.8s remaining:    0.0s\n",
      "[Parallel(n_jobs=-1)]: Done  12 out of  12 | elapsed:    0.8s finished\n"
     ]
    }
   ],
   "source": [
    "%%time\n",
    "### GridSearch for number of estimators\n",
    "from sklearn.model_selection import GridSearchCV\n",
    "boost = xgb.XGBRegressor()\n",
    "n_estimators = [50, 100, 200, 300]\n",
    "tuned_parameters = dict(n_estimators=n_estimators)\n",
    "grid = GridSearchCV(boost, tuned_parameters, cv=3, scoring=rmsle_loss, n_jobs=-1, verbose=2)\n",
    "grid.fit(train[top_ten_features], train['target'])"
   ]
  },
  {
   "cell_type": "code",
   "execution_count": 15,
   "metadata": {
    "scrolled": true
   },
   "outputs": [
    {
     "name": "stdout",
     "output_type": "stream",
     "text": [
      "Best: -0.012280 using {'n_estimators': 100}\n",
      "-0.013295 (0.000393) with: {'n_estimators': 50}\n",
      "-0.012280 (0.000510) with: {'n_estimators': 100}\n",
      "-0.012373 (0.000550) with: {'n_estimators': 200}\n",
      "-0.012552 (0.000505) with: {'n_estimators': 300}\n"
     ]
    }
   ],
   "source": [
    "### summarize results\n",
    "print(\"Best: %f using %s\" % (grid.best_score_, grid.best_params_))\n",
    "means = grid.cv_results_['mean_test_score']\n",
    "stds = grid.cv_results_['std_test_score']\n",
    "params = grid.cv_results_['params']\n",
    "for mean, stdev, param in zip(means, stds, params):\n",
    "  print(\"%f (%f) with: %r\" % (mean, stdev, param))"
   ]
  },
  {
   "cell_type": "code",
   "execution_count": 16,
   "metadata": {},
   "outputs": [
    {
     "data": {
      "image/png": "[encoded data removed]",
      "text/plain": [
       "<matplotlib.figure.Figure at 0x113523f10>"
      ]
     },
     "metadata": {},
     "output_type": "display_data"
    }
   ],
   "source": [
    "### plot results\n",
    "plt.errorbar(n_estimators, means, yerr=stds)\n",
    "plt.legend()\n",
    "plt.xlabel('n_estimators')\n",
    "plt.ylabel('Mean Squared Error')\n",
    "plt.show()"
   ]
  },
  {
   "cell_type": "code",
   "execution_count": 17,
   "metadata": {
    "scrolled": true
   },
   "outputs": [
    {
     "name": "stdout",
     "output_type": "stream",
     "text": [
      "Fitting 3 folds for each of 8 candidates, totalling 24 fits\n",
      "[CV] max_depth=3 .....................................................\n",
      "[CV] max_depth=3 .....................................................\n",
      "[CV] max_depth=3 .....................................................\n",
      "[CV] max_depth=4 .....................................................\n",
      "[CV] ...................................... max_depth=3, total=   0.1s\n",
      "[CV] max_depth=4 .....................................................\n",
      "[CV] ...................................... max_depth=3, total=   0.1s\n",
      "[CV] ...................................... max_depth=3, total=   0.1s\n",
      "[CV] max_depth=4 .....................................................\n",
      "[CV] max_depth=5 .....................................................\n",
      "[CV] ...................................... max_depth=4, total=   0.1s\n",
      "[CV] max_depth=5 .....................................................\n",
      "[CV] ...................................... max_depth=4, total=   0.1s\n",
      "[CV] max_depth=5 .....................................................\n",
      "[CV] ...................................... max_depth=4, total=   0.1s\n",
      "[CV] max_depth=6 .....................................................\n",
      "[CV] ...................................... max_depth=5, total=   0.2s\n",
      "[CV] max_depth=7 .....................................................\n",
      "[CV] ...................................... max_depth=5, total=   0.2s\n",
      "[CV] max_depth=7 .....................................................\n",
      "[CV] ...................................... max_depth=5, total=   0.2s\n",
      "[CV] max_depth=6 .....................................................\n",
      "[CV] ...................................... max_depth=6, total=   0.2s\n",
      "[CV] max_depth=6 .....................................................\n",
      "[CV] ...................................... max_depth=7, total=   0.2s\n",
      "[CV] max_depth=7 .....................................................\n",
      "[CV] ...................................... max_depth=7, total=   0.2s\n",
      "[CV] max_depth=8 .....................................................\n",
      "[CV] ...................................... max_depth=6, total=   0.2s\n",
      "[CV] max_depth=8 .....................................................\n",
      "[CV] ...................................... max_depth=6, total=   0.2s\n",
      "[CV] max_depth=9 .....................................................\n",
      "[CV] ...................................... max_depth=7, total=   0.2s\n",
      "[CV] max_depth=9 .....................................................\n",
      "[CV] ...................................... max_depth=8, total=   0.2s\n",
      "[CV] max_depth=10 ....................................................\n",
      "[CV] ...................................... max_depth=8, total=   0.2s\n",
      "[CV] max_depth=8 .....................................................\n",
      "[CV] ...................................... max_depth=9, total=   0.2s\n",
      "[CV] max_depth=9 .....................................................\n",
      "[CV] ...................................... max_depth=9, total=   0.3s\n",
      "[CV] max_depth=10 ....................................................\n",
      "[CV] ...................................... max_depth=8, total=   0.2s\n",
      "[CV] ..................................... max_depth=10, total=   0.3s\n",
      "[CV] max_depth=10 ....................................................\n",
      "[CV] ...................................... max_depth=9, total=   0.2s\n",
      "[CV] ..................................... max_depth=10, total=   0.2s\n",
      "[CV] ..................................... max_depth=10, total=   0.2s\n",
      "CPU times: user 286 ms, sys: 67.1 ms, total: 353 ms\n",
      "Wall time: 1.6 s\n"
     ]
    },
    {
     "name": "stderr",
     "output_type": "stream",
     "text": [
      "[Parallel(n_jobs=-1)]: Done  24 out of  24 | elapsed:    1.4s finished\n"
     ]
    }
   ],
   "source": [
    "%%time\n",
    "### GridSearch for max depth\n",
    "boost = xgb.XGBRegressor(n_estimators=100)\n",
    "max_depth = [3,4,5,6,7,8,9,10]\n",
    "tuned_parameters = dict(max_depth=max_depth)\n",
    "grid = GridSearchCV(boost, tuned_parameters, cv=3, scoring=rmsle_loss, n_jobs=-1, verbose=2)\n",
    "grid.fit(train[top_ten_features], train['target'])"
   ]
  },
  {
   "cell_type": "code",
   "execution_count": 18,
   "metadata": {
    "scrolled": true
   },
   "outputs": [
    {
     "name": "stdout",
     "output_type": "stream",
     "text": [
      "Best: -0.012280 using {'max_depth': 3}\n",
      "-0.012280 (0.000510) with: {'max_depth': 3}\n",
      "-0.012440 (0.000389) with: {'max_depth': 4}\n",
      "-0.012508 (0.000366) with: {'max_depth': 5}\n",
      "-0.012632 (0.000319) with: {'max_depth': 6}\n",
      "-0.012729 (0.000330) with: {'max_depth': 7}\n",
      "-0.012591 (0.000263) with: {'max_depth': 8}\n",
      "-0.012689 (0.000413) with: {'max_depth': 9}\n",
      "-0.012813 (0.000324) with: {'max_depth': 10}\n"
     ]
    }
   ],
   "source": [
    "# summarize results\n",
    "print(\"Best: %f using %s\" % (grid.best_score_, grid.best_params_))\n",
    "means = grid.cv_results_['mean_test_score']\n",
    "stds = grid.cv_results_['std_test_score']\n",
    "params = grid.cv_results_['params']\n",
    "for mean, stdev, param in zip(means, stds, params):\n",
    "  print(\"%f (%f) with: %r\" % (mean, stdev, param))"
   ]
  },
  {
   "cell_type": "code",
   "execution_count": 19,
   "metadata": {},
   "outputs": [
    {
     "data": {
      "image/png": "[encoded data removed]",
      "text/plain": [
       "<matplotlib.figure.Figure at 0x114427310>"
      ]
     },
     "metadata": {},
     "output_type": "display_data"
    }
   ],
   "source": [
    "plt.errorbar(max_depth, means, yerr=stds)\n",
    "plt.legend()\n",
    "plt.xlabel('max_depth')\n",
    "plt.ylabel('Mean Squared Error')\n",
    "plt.show()"
   ]
  },
  {
   "cell_type": "code",
   "execution_count": 20,
   "metadata": {
    "scrolled": true
   },
   "outputs": [
    {
     "name": "stdout",
     "output_type": "stream",
     "text": [
      "Fitting 3 folds for each of 6 candidates, totalling 18 fits\n",
      "[CV] learning_rate=0.0001 ............................................\n",
      "[CV] learning_rate=0.0001 ............................................\n",
      "[CV] learning_rate=0.0001 ............................................\n",
      "[CV] learning_rate=0.001 .............................................\n",
      "[CV] ............................. learning_rate=0.0001, total=   0.0s\n",
      "[CV] learning_rate=0.001 .............................................\n",
      "[CV] ............................. learning_rate=0.0001, total=   0.0s\n",
      "[CV] learning_rate=0.001 .............................................\n",
      "[CV] ............................. learning_rate=0.0001, total=   0.0s\n",
      "[CV] .............................. learning_rate=0.001, total=   0.0s\n",
      "[CV] learning_rate=0.01 ..............................................\n",
      "[CV] learning_rate=0.01 ..............................................\n",
      "[CV] .............................. learning_rate=0.001, total=   0.1s\n",
      "[CV] learning_rate=0.01 ..............................................\n",
      "[CV] .............................. learning_rate=0.001, total=   0.1s\n",
      "[CV] learning_rate=0.2 ...............................................\n",
      "[CV] ............................... learning_rate=0.01, total=   0.1s\n",
      "[CV] learning_rate=0.3 ...............................................\n",
      "[CV] ............................... learning_rate=0.01, total=   0.1s\n",
      "[CV] ............................... learning_rate=0.01, total=   0.1s\n",
      "[CV] learning_rate=0.1 ...............................................\n",
      "[CV] ................................ learning_rate=0.2, total=   0.1s\n",
      "[CV] learning_rate=0.2 ...............................................\n",
      "[CV] ................................ learning_rate=0.3, total=   0.1s\n",
      "[CV] learning_rate=0.3 ...............................................\n",
      "[CV] ................................ learning_rate=0.1, total=   0.1s\n",
      "[CV] learning_rate=0.1 ...............................................\n",
      "[CV] ................................ learning_rate=0.2, total=   0.1s\n",
      "[CV] learning_rate=0.2 ...............................................\n",
      "[CV] ................................ learning_rate=0.3, total=   0.1s\n",
      "[CV] ................................ learning_rate=0.1, total=   0.1s\n",
      "[CV] learning_rate=0.1 ...............................................\n",
      "[CV] ................................ learning_rate=0.2, total=   0.1s\n",
      "[CV] learning_rate=0.3 ...............................................\n",
      "[CV] ................................ learning_rate=0.1, total=   0.1s\n",
      "[CV] ................................ learning_rate=0.3, total=   0.1s\n",
      "CPU times: user 234 ms, sys: 58 ms, total: 293 ms\n",
      "Wall time: 770 ms\n"
     ]
    },
    {
     "name": "stderr",
     "output_type": "stream",
     "text": [
      "[Parallel(n_jobs=-1)]: Done  18 out of  18 | elapsed:    0.6s finished\n"
     ]
    }
   ],
   "source": [
    "%%time\n",
    "### GridSearch for learning rate\n",
    "from sklearn.model_selection import GridSearchCV\n",
    "boost = xgb.XGBRegressor(n_estimators=100, max_depth=3)\n",
    "learning_rate = [0.0001, 0.001, 0.01, 0.1, 0.2, 0.3]\n",
    "tuned_parameters = dict(learning_rate=learning_rate)\n",
    "grid = GridSearchCV(boost, tuned_parameters, cv=3, scoring=rmsle_loss, n_jobs=-1, verbose=2)\n",
    "grid.fit(train[top_ten_features], train['target'])"
   ]
  },
  {
   "cell_type": "code",
   "execution_count": 21,
   "metadata": {
    "scrolled": true
   },
   "outputs": [
    {
     "name": "stdout",
     "output_type": "stream",
     "text": [
      "Best: -0.012280 using {'learning_rate': 0.1}\n",
      "-2.087494 (0.000741) with: {'learning_rate': 0.0001}\n",
      "-1.612606 (0.000885) with: {'learning_rate': 0.001}\n",
      "-0.392398 (0.000805) with: {'learning_rate': 0.01}\n",
      "-0.012280 (0.000510) with: {'learning_rate': 0.1}\n",
      "-0.012529 (0.000527) with: {'learning_rate': 0.2}\n",
      "-0.012867 (0.000467) with: {'learning_rate': 0.3}\n"
     ]
    }
   ],
   "source": [
    "# summarize results\n",
    "print(\"Best: %f using %s\" % (grid.best_score_, grid.best_params_))\n",
    "means = grid.cv_results_['mean_test_score']\n",
    "stds = grid.cv_results_['std_test_score']\n",
    "params = grid.cv_results_['params']\n",
    "for mean, stdev, param in zip(means, stds, params):\n",
    "  print(\"%f (%f) with: %r\" % (mean, stdev, param))"
   ]
  },
  {
   "cell_type": "code",
   "execution_count": 22,
   "metadata": {},
   "outputs": [
    {
     "data": {
      "image/png": "[encoded data removed]",
      "text/plain": [
       "<matplotlib.figure.Figure at 0x1147b7f10>"
      ]
     },
     "metadata": {},
     "output_type": "display_data"
    }
   ],
   "source": [
    "plt.errorbar(learning_rate, means, yerr=stds)\n",
    "plt.legend()\n",
    "plt.xlabel('learning_rate')\n",
    "plt.ylabel('Mean Squared Error')\n",
    "plt.show()"
   ]
  },
  {
   "cell_type": "code",
   "execution_count": 23,
   "metadata": {},
   "outputs": [
    {
     "name": "stdout",
     "output_type": "stream",
     "text": [
      "CPU times: user 3.87 ms, sys: 841 µs, total: 4.71 ms\n",
      "Wall time: 3.83 ms\n"
     ]
    }
   ],
   "source": [
    "%%time\n",
    "### Create dmatrix for xgboost\n",
    "d_train = xgb.DMatrix(X_train, label=y_train)\n",
    "d_test = xgb.DMatrix(X_test, label=y_test)"
   ]
  },
  {
   "cell_type": "code",
   "execution_count": 24,
   "metadata": {
    "scrolled": false
   },
   "outputs": [
    {
     "name": "stdout",
     "output_type": "stream",
     "text": [
      "[0]\ttrain-rmse:10.3846\ttest-rmse:10.3692\n",
      "Multiple eval metrics have been passed: 'test-rmse' will be used for early stopping.\n",
      "\n",
      "Will train until test-rmse hasn't improved in 100 rounds.\n",
      "[10]\ttrain-rmse:3.63814\ttest-rmse:3.63439\n",
      "[20]\ttrain-rmse:1.28735\ttest-rmse:1.29343\n",
      "[30]\ttrain-rmse:0.474759\ttest-rmse:0.486061\n",
      "[40]\ttrain-rmse:0.213211\ttest-rmse:0.229174\n",
      "[50]\ttrain-rmse:0.146806\ttest-rmse:0.168958\n",
      "[60]\ttrain-rmse:0.133195\ttest-rmse:0.159126\n",
      "[70]\ttrain-rmse:0.128073\ttest-rmse:0.157431\n",
      "[80]\ttrain-rmse:0.124754\ttest-rmse:0.157273\n",
      "[90]\ttrain-rmse:0.121882\ttest-rmse:0.157443\n",
      "[100]\ttrain-rmse:0.119403\ttest-rmse:0.157608\n",
      "[110]\ttrain-rmse:0.117011\ttest-rmse:0.15806\n",
      "[120]\ttrain-rmse:0.114539\ttest-rmse:0.158423\n",
      "[130]\ttrain-rmse:0.112652\ttest-rmse:0.158294\n",
      "[140]\ttrain-rmse:0.110702\ttest-rmse:0.158334\n",
      "[150]\ttrain-rmse:0.108937\ttest-rmse:0.158873\n",
      "[160]\ttrain-rmse:0.107233\ttest-rmse:0.158904\n",
      "[170]\ttrain-rmse:0.105352\ttest-rmse:0.159409\n",
      "Stopping. Best iteration:\n",
      "[76]\ttrain-rmse:0.125894\ttest-rmse:0.1571\n",
      "\n",
      "CPU times: user 158 ms, sys: 22.4 ms, total: 180 ms\n",
      "Wall time: 203 ms\n"
     ]
    }
   ],
   "source": [
    "%%time\n",
    "### Train until model hasn't improved for 100 rounds\n",
    "params = {}\n",
    "params['objective'] = 'reg:linear'\n",
    "params['eval_metric'] = 'rmse'\n",
    "params['max_depth'] = 3\n",
    "params['learning_rate'] = 0.1\n",
    "\n",
    "watchlist = [(d_train, 'train'), (d_test, 'test')]\n",
    "boost = xgb.train(params, d_train, 10000, watchlist, early_stopping_rounds=100, verbose_eval=10)"
   ]
  },
  {
   "cell_type": "code",
   "execution_count": 27,
   "metadata": {},
   "outputs": [
    {
     "name": "stdout",
     "output_type": "stream",
     "text": [
      "CPU times: user 100 ms, sys: 7.08 ms, total: 107 ms\n",
      "Wall time: 111 ms\n"
     ]
    }
   ],
   "source": [
    "%%time\n",
    "### Prepare test data for predictions\n",
    "test = pd.read_csv('test.csv')\n",
    "test[nums] = imputer.transform(test[nums])\n",
    "test[skewed_feats] = np.log1p(test[skewed_feats])\n",
    "test[nums] = scaler.fit_transform(test[nums])\n",
    "test = pd.get_dummies(test, columns = cats)\n",
    "d_test = xgb.DMatrix(test[top_ten_features])"
   ]
  },
  {
   "cell_type": "code",
   "execution_count": 28,
   "metadata": {
    "collapsed": true
   },
   "outputs": [],
   "source": [
    "### Make prediction and convert prediction from log\n",
    "preds = np.expm1(boost.predict(d_test))"
   ]
  },
  {
   "cell_type": "code",
   "execution_count": 29,
   "metadata": {
    "collapsed": true
   },
   "outputs": [],
   "source": [
    "### Create submission file\n",
    "submission = pd.DataFrame()\n",
    "submission['Id'] = test.Id\n",
    "submission['SalePrice'] = preds\n",
    "submission.to_csv('submission_xgb.csv', index=False)"
   ]
  }
 ],
 "metadata": {
  "kernelspec": {
   "display_name": "Python 2",
   "language": "python",
   "name": "python2"
  },
  "language_info": {
   "codemirror_mode": {
    "name": "ipython",
    "version": 2
   },
   "file_extension": ".py",
   "mimetype": "text/x-python",
   "name": "python",
   "nbconvert_exporter": "python",
   "pygments_lexer": "ipython2",
   "version": "2.7.14"
  }
 },
 "nbformat": 4,
 "nbformat_minor": 2
}
